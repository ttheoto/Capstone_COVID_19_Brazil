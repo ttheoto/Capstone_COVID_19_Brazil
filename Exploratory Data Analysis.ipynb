{
 "cells": [
  {
   "cell_type": "markdown",
   "metadata": {},
   "source": [
    "Importing libraries"
   ]
  },
  {
   "cell_type": "code",
   "execution_count": 43,
   "metadata": {},
   "outputs": [],
   "source": [
    "import urllib.request\n",
    "import pandas as pd\n",
    "import datetime"
   ]
  },
  {
   "cell_type": "markdown",
   "metadata": {},
   "source": [
    "Downloading required files "
   ]
  },
  {
   "cell_type": "code",
   "execution_count": 2,
   "metadata": {},
   "outputs": [],
   "source": [
    "# Source: https://towardsdatascience.com/automatically-update-data-sources-in-python-e424dbea68d0\n",
    "def download_files(url, output):\n",
    "    print(\"Start Program ... \")\n",
    "    try:\n",
    "        print(\"Start Downloading file ... \")\n",
    "        urllib.request.urlretrieve(url, output)\n",
    "        print(f\"File {output} -- saved!\")\n",
    "    except Exception as e:\n",
    "        print(\"Downloading file error: \" + str(e))\n",
    "        print (\"Dataframe was created with the most recent download\")\n",
    "    return pd.read_csv(output, compression='gzip')"
   ]
  },
  {
   "cell_type": "code",
   "execution_count": 3,
   "metadata": {
    "collapsed": true
   },
   "outputs": [
    {
     "name": "stdout",
     "output_type": "stream",
     "text": [
      "Start Program ... \n",
      "Start Downloading file ... \n",
      "File cases.csv.gz -- saved!\n",
      "Start Program ... \n",
      "Start Downloading file ... \n",
      "File cases_full.csv.gz -- saved!\n",
      "Start Program ... \n",
      "Start Downloading file ... \n",
      "File death_data.csv.gz -- saved!\n"
     ]
    }
   ],
   "source": [
    "# Downloading files from https://data.brasil.io/dataset/covid19/_meta/list.html\n",
    "# This function tries to get the most recent version of the datasets\n",
    "# if the download fails, it will generate the dataframe with the github dataset\n",
    "\n",
    "df_cases = download_files('https://data.brasil.io/dataset/covid19/caso.csv.gz', 'cases.csv.gz')\n",
    "df_full = download_files('https://data.brasil.io/dataset/covid19/caso_full.csv.gz', 'cases_full.csv.gz')\n",
    "df_death = download_files('https://data.brasil.io/dataset/covid19/obito_cartorio.csv.gz', 'death_data.csv.gz')"
   ]
  },
  {
   "cell_type": "markdown",
   "metadata": {},
   "source": [
    "Loading files"
   ]
  },
  {
   "cell_type": "code",
   "execution_count": 9,
   "metadata": {},
   "outputs": [],
   "source": [
    "# Reading in files from civil-registry\n",
    "\n",
    "cr_deaths = pd.read_csv('civil_registry_deaths.csv')\n",
    "cr_states = pd.read_csv('civil_registry_covid_states.csv')\n",
    "cr_states_det = pd.read_csv('civil_registry_covid_states_detailed.csv')\n",
    "cr_city = pd.read_csv('civil_registry_covid_cities.csv')\n",
    "cr_city_det = pd.read_csv('civil_registry_covid_cities_detailed.csv')"
   ]
  },
  {
   "cell_type": "markdown",
   "metadata": {},
   "source": [
    "Data Exploration"
   ]
  },
  {
   "cell_type": "code",
   "execution_count": 16,
   "metadata": {},
   "outputs": [
    {
     "data": {
      "text/plain": [
       "date                           object\n",
       "state                          object\n",
       "state_ibge_code                 int64\n",
       "place                          object\n",
       "gender                         object\n",
       "age_group                      object\n",
       "deaths_sars                   float64\n",
       "deaths_pneumonia              float64\n",
       "deaths_respiratory_failure    float64\n",
       "deaths_septicemia             float64\n",
       "deaths_indeterminate          float64\n",
       "deaths_others                 float64\n",
       "deaths_covid19                float64\n",
       "created_at                     object\n",
       "dtype: object"
      ]
     },
     "execution_count": 16,
     "metadata": {},
     "output_type": "execute_result"
    }
   ],
   "source": [
    "cr_states_det.dtypes"
   ]
  },
  {
   "cell_type": "code",
   "execution_count": 17,
   "metadata": {},
   "outputs": [
    {
     "data": {
      "text/plain": [
       "date                          0.000000\n",
       "state                         0.000000\n",
       "state_ibge_code               0.000000\n",
       "place                         0.000000\n",
       "gender                        0.000000\n",
       "age_group                     0.033404\n",
       "deaths_sars                   0.984158\n",
       "deaths_pneumonia              0.683077\n",
       "deaths_respiratory_failure    0.772754\n",
       "deaths_septicemia             0.722384\n",
       "deaths_indeterminate          0.969544\n",
       "deaths_others                 0.172506\n",
       "deaths_covid19                0.976924\n",
       "created_at                    0.000000\n",
       "dtype: float64"
      ]
     },
     "execution_count": 17,
     "metadata": {},
     "output_type": "execute_result"
    }
   ],
   "source": [
    "cr_states_det.isnull().mean()"
   ]
  },
  {
   "cell_type": "code",
   "execution_count": 25,
   "metadata": {},
   "outputs": [
    {
     "data": {
      "text/plain": [
       "M    195319\n",
       "F    162153\n",
       "Name: gender, dtype: int64"
      ]
     },
     "execution_count": 25,
     "metadata": {},
     "output_type": "execute_result"
    }
   ],
   "source": [
    "cr_states_det['gender'].value_counts()"
   ]
  },
  {
   "cell_type": "code",
   "execution_count": 29,
   "metadata": {},
   "outputs": [
    {
     "data": {
      "text/plain": [
       "10-19     8392\n",
       "100+     12446\n",
       "20-29    18540\n",
       "9-       21307\n",
       "30-39    24882\n",
       "40-49    33007\n",
       "90-99    39356\n",
       "50-59    41617\n",
       "60-69    47121\n",
       "80-89    49307\n",
       "70-79    49556\n",
       "Name: age_group, dtype: int64"
      ]
     },
     "execution_count": 29,
     "metadata": {},
     "output_type": "execute_result"
    }
   ],
   "source": [
    "cr_states_det['age_group'].value_counts().sort_values()"
   ]
  },
  {
   "cell_type": "code",
   "execution_count": 33,
   "metadata": {},
   "outputs": [
    {
     "data": {
      "text/plain": [
       "Index(['deaths_sars', 'deaths_pneumonia', 'deaths_respiratory_failure',\n",
       "       'deaths_septicemia', 'deaths_indeterminate', 'deaths_others',\n",
       "       'deaths_covid19'],\n",
       "      dtype='object')"
      ]
     },
     "execution_count": 33,
     "metadata": {},
     "output_type": "execute_result"
    }
   ],
   "source": [
    "cr_states_det.columns[cr_states_det.columns.str.contains('deaths') == True]"
   ]
  },
  {
   "cell_type": "code",
   "execution_count": 36,
   "metadata": {},
   "outputs": [
    {
     "data": {
      "text/plain": [
       "deaths_sars                     8298.0\n",
       "deaths_indeterminate           11561.0\n",
       "deaths_covid19                 26343.0\n",
       "deaths_respiratory_failure    134343.0\n",
       "deaths_septicemia             231664.0\n",
       "deaths_pneumonia              295054.0\n",
       "deaths_others                 871491.0\n",
       "dtype: float64"
      ]
     },
     "execution_count": 36,
     "metadata": {},
     "output_type": "execute_result"
    }
   ],
   "source": [
    "death_cols = cr_states_det.columns[cr_states_det.columns.str.contains('deaths') == True]\n",
    "cr_states_det[death_cols].sum().sort_values()"
   ]
  },
  {
   "cell_type": "code",
   "execution_count": 21,
   "metadata": {},
   "outputs": [],
   "source": [
    "# Date conversion\n",
    "\n",
    "cr_states_det['date'] = pd.to_datetime(cr_states_det['date'])"
   ]
  },
  {
   "cell_type": "code",
   "execution_count": 51,
   "metadata": {},
   "outputs": [],
   "source": [
    "cr_states_det_2020 = cr_states_det[cr_states_det['date'] >= datetime.datetime(2020, 1, 1)]\n",
    "cr_states_det_2019 = cr_states_det[cr_states_det['date'] < datetime.datetime(2020, 1, 1)]"
   ]
  },
  {
   "cell_type": "code",
   "execution_count": 53,
   "metadata": {},
   "outputs": [],
   "source": [
    "deaths_2020 = cr_states_det_2020.groupby('date').sum()\n",
    "deaths_2019 = cr_states_det_2019.groupby('date').sum()"
   ]
  },
  {
   "cell_type": "code",
   "execution_count": 70,
   "metadata": {},
   "outputs": [
    {
     "data": {
      "text/html": [
       "<div>\n",
       "<style scoped>\n",
       "    .dataframe tbody tr th:only-of-type {\n",
       "        vertical-align: middle;\n",
       "    }\n",
       "\n",
       "    .dataframe tbody tr th {\n",
       "        vertical-align: top;\n",
       "    }\n",
       "\n",
       "    .dataframe thead th {\n",
       "        text-align: right;\n",
       "    }\n",
       "</style>\n",
       "<table border=\"1\" class=\"dataframe\">\n",
       "  <thead>\n",
       "    <tr style=\"text-align: right;\">\n",
       "      <th></th>\n",
       "      <th>date</th>\n",
       "      <th>state</th>\n",
       "      <th>state_ibge_code</th>\n",
       "      <th>place</th>\n",
       "      <th>gender</th>\n",
       "      <th>age_group</th>\n",
       "      <th>deaths_sars</th>\n",
       "      <th>deaths_pneumonia</th>\n",
       "      <th>deaths_respiratory_failure</th>\n",
       "      <th>deaths_septicemia</th>\n",
       "      <th>deaths_indeterminate</th>\n",
       "      <th>deaths_others</th>\n",
       "      <th>deaths_covid19</th>\n",
       "      <th>created_at</th>\n",
       "    </tr>\n",
       "  </thead>\n",
       "  <tbody>\n",
       "    <tr>\n",
       "      <th>3703</th>\n",
       "      <td>2020-04-07</td>\n",
       "      <td>AC</td>\n",
       "      <td>12</td>\n",
       "      <td>hospital</td>\n",
       "      <td>F</td>\n",
       "      <td>70-79</td>\n",
       "      <td>NaN</td>\n",
       "      <td>NaN</td>\n",
       "      <td>NaN</td>\n",
       "      <td>NaN</td>\n",
       "      <td>NaN</td>\n",
       "      <td>NaN</td>\n",
       "      <td>1.0</td>\n",
       "      <td>2020-05-30 08:50</td>\n",
       "    </tr>\n",
       "    <tr>\n",
       "      <th>3766</th>\n",
       "      <td>2020-04-15</td>\n",
       "      <td>AC</td>\n",
       "      <td>12</td>\n",
       "      <td>hospital</td>\n",
       "      <td>M</td>\n",
       "      <td>80-89</td>\n",
       "      <td>NaN</td>\n",
       "      <td>NaN</td>\n",
       "      <td>NaN</td>\n",
       "      <td>NaN</td>\n",
       "      <td>NaN</td>\n",
       "      <td>NaN</td>\n",
       "      <td>1.0</td>\n",
       "      <td>2020-05-30 08:50</td>\n",
       "    </tr>\n",
       "    <tr>\n",
       "      <th>3790</th>\n",
       "      <td>2020-04-18</td>\n",
       "      <td>AC</td>\n",
       "      <td>12</td>\n",
       "      <td>hospital</td>\n",
       "      <td>M</td>\n",
       "      <td>50-59</td>\n",
       "      <td>NaN</td>\n",
       "      <td>NaN</td>\n",
       "      <td>NaN</td>\n",
       "      <td>NaN</td>\n",
       "      <td>NaN</td>\n",
       "      <td>NaN</td>\n",
       "      <td>1.0</td>\n",
       "      <td>2020-05-30 08:50</td>\n",
       "    </tr>\n",
       "    <tr>\n",
       "      <th>3803</th>\n",
       "      <td>2020-04-19</td>\n",
       "      <td>AC</td>\n",
       "      <td>12</td>\n",
       "      <td>hospital</td>\n",
       "      <td>M</td>\n",
       "      <td>80-89</td>\n",
       "      <td>NaN</td>\n",
       "      <td>NaN</td>\n",
       "      <td>NaN</td>\n",
       "      <td>NaN</td>\n",
       "      <td>NaN</td>\n",
       "      <td>NaN</td>\n",
       "      <td>1.0</td>\n",
       "      <td>2020-05-30 08:50</td>\n",
       "    </tr>\n",
       "    <tr>\n",
       "      <th>3807</th>\n",
       "      <td>2020-04-20</td>\n",
       "      <td>AC</td>\n",
       "      <td>12</td>\n",
       "      <td>hospital</td>\n",
       "      <td>M</td>\n",
       "      <td>40-49</td>\n",
       "      <td>NaN</td>\n",
       "      <td>NaN</td>\n",
       "      <td>NaN</td>\n",
       "      <td>NaN</td>\n",
       "      <td>NaN</td>\n",
       "      <td>NaN</td>\n",
       "      <td>1.0</td>\n",
       "      <td>2020-05-30 08:50</td>\n",
       "    </tr>\n",
       "    <tr>\n",
       "      <th>...</th>\n",
       "      <td>...</td>\n",
       "      <td>...</td>\n",
       "      <td>...</td>\n",
       "      <td>...</td>\n",
       "      <td>...</td>\n",
       "      <td>...</td>\n",
       "      <td>...</td>\n",
       "      <td>...</td>\n",
       "      <td>...</td>\n",
       "      <td>...</td>\n",
       "      <td>...</td>\n",
       "      <td>...</td>\n",
       "      <td>...</td>\n",
       "      <td>...</td>\n",
       "    </tr>\n",
       "    <tr>\n",
       "      <th>357449</th>\n",
       "      <td>2020-05-23</td>\n",
       "      <td>TO</td>\n",
       "      <td>17</td>\n",
       "      <td>public</td>\n",
       "      <td>M</td>\n",
       "      <td>40-49</td>\n",
       "      <td>NaN</td>\n",
       "      <td>NaN</td>\n",
       "      <td>NaN</td>\n",
       "      <td>NaN</td>\n",
       "      <td>NaN</td>\n",
       "      <td>NaN</td>\n",
       "      <td>1.0</td>\n",
       "      <td>2020-05-30 05:04</td>\n",
       "    </tr>\n",
       "    <tr>\n",
       "      <th>357452</th>\n",
       "      <td>2020-05-24</td>\n",
       "      <td>TO</td>\n",
       "      <td>17</td>\n",
       "      <td>hospital</td>\n",
       "      <td>F</td>\n",
       "      <td>60-69</td>\n",
       "      <td>NaN</td>\n",
       "      <td>NaN</td>\n",
       "      <td>NaN</td>\n",
       "      <td>NaN</td>\n",
       "      <td>NaN</td>\n",
       "      <td>NaN</td>\n",
       "      <td>1.0</td>\n",
       "      <td>2020-05-30 05:04</td>\n",
       "    </tr>\n",
       "    <tr>\n",
       "      <th>357458</th>\n",
       "      <td>2020-05-25</td>\n",
       "      <td>TO</td>\n",
       "      <td>17</td>\n",
       "      <td>hospital</td>\n",
       "      <td>M</td>\n",
       "      <td>40-49</td>\n",
       "      <td>NaN</td>\n",
       "      <td>NaN</td>\n",
       "      <td>NaN</td>\n",
       "      <td>NaN</td>\n",
       "      <td>NaN</td>\n",
       "      <td>NaN</td>\n",
       "      <td>1.0</td>\n",
       "      <td>2020-05-30 05:04</td>\n",
       "    </tr>\n",
       "    <tr>\n",
       "      <th>357470</th>\n",
       "      <td>2020-05-27</td>\n",
       "      <td>TO</td>\n",
       "      <td>17</td>\n",
       "      <td>hospital</td>\n",
       "      <td>M</td>\n",
       "      <td>60-69</td>\n",
       "      <td>NaN</td>\n",
       "      <td>NaN</td>\n",
       "      <td>NaN</td>\n",
       "      <td>NaN</td>\n",
       "      <td>NaN</td>\n",
       "      <td>NaN</td>\n",
       "      <td>1.0</td>\n",
       "      <td>2020-05-30 05:04</td>\n",
       "    </tr>\n",
       "    <tr>\n",
       "      <th>357471</th>\n",
       "      <td>2020-05-28</td>\n",
       "      <td>TO</td>\n",
       "      <td>17</td>\n",
       "      <td>hospital</td>\n",
       "      <td>M</td>\n",
       "      <td>70-79</td>\n",
       "      <td>NaN</td>\n",
       "      <td>NaN</td>\n",
       "      <td>NaN</td>\n",
       "      <td>NaN</td>\n",
       "      <td>NaN</td>\n",
       "      <td>NaN</td>\n",
       "      <td>1.0</td>\n",
       "      <td>2020-05-30 05:04</td>\n",
       "    </tr>\n",
       "  </tbody>\n",
       "</table>\n",
       "<p>4568 rows × 14 columns</p>\n",
       "</div>"
      ],
      "text/plain": [
       "             date state  state_ibge_code     place gender age_group  \\\n",
       "3703   2020-04-07    AC               12  hospital      F     70-79   \n",
       "3766   2020-04-15    AC               12  hospital      M     80-89   \n",
       "3790   2020-04-18    AC               12  hospital      M     50-59   \n",
       "3803   2020-04-19    AC               12  hospital      M     80-89   \n",
       "3807   2020-04-20    AC               12  hospital      M     40-49   \n",
       "...           ...   ...              ...       ...    ...       ...   \n",
       "357449 2020-05-23    TO               17    public      M     40-49   \n",
       "357452 2020-05-24    TO               17  hospital      F     60-69   \n",
       "357458 2020-05-25    TO               17  hospital      M     40-49   \n",
       "357470 2020-05-27    TO               17  hospital      M     60-69   \n",
       "357471 2020-05-28    TO               17  hospital      M     70-79   \n",
       "\n",
       "        deaths_sars  deaths_pneumonia  deaths_respiratory_failure  \\\n",
       "3703            NaN               NaN                         NaN   \n",
       "3766            NaN               NaN                         NaN   \n",
       "3790            NaN               NaN                         NaN   \n",
       "3803            NaN               NaN                         NaN   \n",
       "3807            NaN               NaN                         NaN   \n",
       "...             ...               ...                         ...   \n",
       "357449          NaN               NaN                         NaN   \n",
       "357452          NaN               NaN                         NaN   \n",
       "357458          NaN               NaN                         NaN   \n",
       "357470          NaN               NaN                         NaN   \n",
       "357471          NaN               NaN                         NaN   \n",
       "\n",
       "        deaths_septicemia  deaths_indeterminate  deaths_others  \\\n",
       "3703                  NaN                   NaN            NaN   \n",
       "3766                  NaN                   NaN            NaN   \n",
       "3790                  NaN                   NaN            NaN   \n",
       "3803                  NaN                   NaN            NaN   \n",
       "3807                  NaN                   NaN            NaN   \n",
       "...                   ...                   ...            ...   \n",
       "357449                NaN                   NaN            NaN   \n",
       "357452                NaN                   NaN            NaN   \n",
       "357458                NaN                   NaN            NaN   \n",
       "357470                NaN                   NaN            NaN   \n",
       "357471                NaN                   NaN            NaN   \n",
       "\n",
       "        deaths_covid19        created_at  \n",
       "3703               1.0  2020-05-30 08:50  \n",
       "3766               1.0  2020-05-30 08:50  \n",
       "3790               1.0  2020-05-30 08:50  \n",
       "3803               1.0  2020-05-30 08:50  \n",
       "3807               1.0  2020-05-30 08:50  \n",
       "...                ...               ...  \n",
       "357449             1.0  2020-05-30 05:04  \n",
       "357452             1.0  2020-05-30 05:04  \n",
       "357458             1.0  2020-05-30 05:04  \n",
       "357470             1.0  2020-05-30 05:04  \n",
       "357471             1.0  2020-05-30 05:04  \n",
       "\n",
       "[4568 rows x 14 columns]"
      ]
     },
     "execution_count": 70,
     "metadata": {},
     "output_type": "execute_result"
    }
   ],
   "source": [
    "cr_states_det[cr_states_det['deaths_covid19'] == 1]"
   ]
  },
  {
   "cell_type": "markdown",
   "metadata": {},
   "source": [
    "Data Cleaning"
   ]
  }
 ],
 "metadata": {
  "kernelspec": {
   "display_name": "Python 3",
   "language": "python",
   "name": "python3"
  },
  "language_info": {
   "codemirror_mode": {
    "name": "ipython",
    "version": 3
   },
   "file_extension": ".py",
   "mimetype": "text/x-python",
   "name": "python",
   "nbconvert_exporter": "python",
   "pygments_lexer": "ipython3",
   "version": "3.7.7"
  }
 },
 "nbformat": 4,
 "nbformat_minor": 4
}
