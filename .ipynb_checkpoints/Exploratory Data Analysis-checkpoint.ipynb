{
 "cells": [
  {
   "cell_type": "markdown",
   "metadata": {},
   "source": [
    "Importing libraries"
   ]
  },
  {
   "cell_type": "code",
   "execution_count": 43,
   "metadata": {},
   "outputs": [],
   "source": [
    "import urllib.request\n",
    "import pandas as pd\n",
    "import datetime"
   ]
  },
  {
   "cell_type": "markdown",
   "metadata": {},
   "source": [
    "Downloading required files "
   ]
  },
  {
   "cell_type": "code",
   "execution_count": 2,
   "metadata": {},
   "outputs": [],
   "source": [
    "# Source: https://towardsdatascience.com/automatically-update-data-sources-in-python-e424dbea68d0\n",
    "def download_files(url, output):\n",
    "    print(\"Start Program ... \")\n",
    "    try:\n",
    "        print(\"Start Downloading file ... \")\n",
    "        urllib.request.urlretrieve(url, output)\n",
    "        print(f\"File {output} -- saved!\")\n",
    "    except Exception as e:\n",
    "        print(\"Downloading file error: \" + str(e))\n",
    "        print (\"Dataframe was created with the most recent download\")\n",
    "    return pd.read_csv(output, compression='gzip')"
   ]
  },
  {
   "cell_type": "code",
   "execution_count": 3,
   "metadata": {
    "collapsed": true
   },
   "outputs": [
    {
     "name": "stdout",
     "output_type": "stream",
     "text": [
      "Start Program ... \n",
      "Start Downloading file ... \n",
      "File cases.csv.gz -- saved!\n",
      "Start Program ... \n",
      "Start Downloading file ... \n",
      "File cases_full.csv.gz -- saved!\n",
      "Start Program ... \n",
      "Start Downloading file ... \n",
      "File death_data.csv.gz -- saved!\n"
     ]
    }
   ],
   "source": [
    "# Downloading files from https://data.brasil.io/dataset/covid19/_meta/list.html\n",
    "# This function tries to get the most recent version of the datasets\n",
    "# if the download fails, it will generate the dataframe with the github dataset\n",
    "\n",
    "df_cases = download_files('https://data.brasil.io/dataset/covid19/caso.csv.gz', 'cases.csv.gz')\n",
    "df_full = download_files('https://data.brasil.io/dataset/covid19/caso_full.csv.gz', 'cases_full.csv.gz')\n",
    "df_death = download_files('https://data.brasil.io/dataset/covid19/obito_cartorio.csv.gz', 'death_data.csv.gz')"
   ]
  },
  {
   "cell_type": "markdown",
   "metadata": {},
   "source": [
    "Loading files"
   ]
  },
  {
   "cell_type": "code",
   "execution_count": 9,
   "metadata": {},
   "outputs": [],
   "source": [
    "# Reading in files from civil-registry\n",
    "\n",
    "cr_deaths = pd.read_csv('civil_registry_deaths.csv')\n",
    "cr_states = pd.read_csv('civil_registry_covid_states.csv')\n",
    "cr_states_det = pd.read_csv('civil_registry_covid_states_detailed.csv')\n",
    "cr_city = pd.read_csv('civil_registry_covid_cities.csv')\n",
    "cr_city_det = pd.read_csv('civil_registry_covid_cities_detailed.csv')"
   ]
  },
  {
   "cell_type": "markdown",
   "metadata": {},
   "source": [
    "Data Exploration"
   ]
  },
  {
   "cell_type": "code",
   "execution_count": 16,
   "metadata": {},
   "outputs": [
    {
     "data": {
      "text/plain": [
       "date                           object\n",
       "state                          object\n",
       "state_ibge_code                 int64\n",
       "place                          object\n",
       "gender                         object\n",
       "age_group                      object\n",
       "deaths_sars                   float64\n",
       "deaths_pneumonia              float64\n",
       "deaths_respiratory_failure    float64\n",
       "deaths_septicemia             float64\n",
       "deaths_indeterminate          float64\n",
       "deaths_others                 float64\n",
       "deaths_covid19                float64\n",
       "created_at                     object\n",
       "dtype: object"
      ]
     },
     "execution_count": 16,
     "metadata": {},
     "output_type": "execute_result"
    }
   ],
   "source": [
    "cr_states_det.dtypes"
   ]
  },
  {
   "cell_type": "code",
   "execution_count": 17,
   "metadata": {},
   "outputs": [
    {
     "data": {
      "text/plain": [
       "date                          0.000000\n",
       "state                         0.000000\n",
       "state_ibge_code               0.000000\n",
       "place                         0.000000\n",
       "gender                        0.000000\n",
       "age_group                     0.033404\n",
       "deaths_sars                   0.984158\n",
       "deaths_pneumonia              0.683077\n",
       "deaths_respiratory_failure    0.772754\n",
       "deaths_septicemia             0.722384\n",
       "deaths_indeterminate          0.969544\n",
       "deaths_others                 0.172506\n",
       "deaths_covid19                0.976924\n",
       "created_at                    0.000000\n",
       "dtype: float64"
      ]
     },
     "execution_count": 17,
     "metadata": {},
     "output_type": "execute_result"
    }
   ],
   "source": [
    "cr_states_det.isnull().mean()"
   ]
  },
  {
   "cell_type": "code",
   "execution_count": 25,
   "metadata": {},
   "outputs": [
    {
     "data": {
      "text/plain": [
       "M    195319\n",
       "F    162153\n",
       "Name: gender, dtype: int64"
      ]
     },
     "execution_count": 25,
     "metadata": {},
     "output_type": "execute_result"
    }
   ],
   "source": [
    "cr_states_det['gender'].value_counts()"
   ]
  },
  {
   "cell_type": "code",
   "execution_count": 29,
   "metadata": {},
   "outputs": [
    {
     "data": {
      "text/plain": [
       "10-19     8392\n",
       "100+     12446\n",
       "20-29    18540\n",
       "9-       21307\n",
       "30-39    24882\n",
       "40-49    33007\n",
       "90-99    39356\n",
       "50-59    41617\n",
       "60-69    47121\n",
       "80-89    49307\n",
       "70-79    49556\n",
       "Name: age_group, dtype: int64"
      ]
     },
     "execution_count": 29,
     "metadata": {},
     "output_type": "execute_result"
    }
   ],
   "source": [
    "cr_states_det['age_group'].value_counts().sort_values()"
   ]
  },
  {
   "cell_type": "code",
   "execution_count": 33,
   "metadata": {},
   "outputs": [
    {
     "data": {
      "text/plain": [
       "Index(['deaths_sars', 'deaths_pneumonia', 'deaths_respiratory_failure',\n",
       "       'deaths_septicemia', 'deaths_indeterminate', 'deaths_others',\n",
       "       'deaths_covid19'],\n",
       "      dtype='object')"
      ]
     },
     "execution_count": 33,
     "metadata": {},
     "output_type": "execute_result"
    }
   ],
   "source": [
    "cr_states_det.columns[cr_states_det.columns.str.contains('deaths') == True]"
   ]
  },
  {
   "cell_type": "code",
   "execution_count": 36,
   "metadata": {},
   "outputs": [
    {
     "data": {
      "text/plain": [
       "deaths_sars                     8298.0\n",
       "deaths_indeterminate           11561.0\n",
       "deaths_covid19                 26343.0\n",
       "deaths_respiratory_failure    134343.0\n",
       "deaths_septicemia             231664.0\n",
       "deaths_pneumonia              295054.0\n",
       "deaths_others                 871491.0\n",
       "dtype: float64"
      ]
     },
     "execution_count": 36,
     "metadata": {},
     "output_type": "execute_result"
    }
   ],
   "source": [
    "death_cols = cr_states_det.columns[cr_states_det.columns.str.contains('deaths') == True]\n",
    "cr_states_det[death_cols].sum().sort_values()"
   ]
  },
  {
   "cell_type": "code",
   "execution_count": 45,
   "metadata": {},
   "outputs": [
    {
     "data": {
      "text/plain": [
       "datetime.date(2020, 5, 17)"
      ]
     },
     "execution_count": 45,
     "metadata": {},
     "output_type": "execute_result"
    }
   ],
   "source": [
    "datetime.date(2020, 5, 17)"
   ]
  },
  {
   "cell_type": "code",
   "execution_count": 48,
   "metadata": {},
   "outputs": [],
   "source": [
    "cr_states_det_2020 = cr_states_det[cr_states_det['date'] >= datetime.datetime(2020, 1, 1)]"
   ]
  },
  {
   "cell_type": "code",
   "execution_count": 21,
   "metadata": {},
   "outputs": [],
   "source": [
    "# Date conversion\n",
    "\n",
    "cr_states_det['date'] = pd.to_datetime(cr_states_det['date'])"
   ]
  }
 ],
 "metadata": {
  "kernelspec": {
   "display_name": "Python 3",
   "language": "python",
   "name": "python3"
  },
  "language_info": {
   "codemirror_mode": {
    "name": "ipython",
    "version": 3
   },
   "file_extension": ".py",
   "mimetype": "text/x-python",
   "name": "python",
   "nbconvert_exporter": "python",
   "pygments_lexer": "ipython3",
   "version": "3.7.7"
  }
 },
 "nbformat": 4,
 "nbformat_minor": 4
}
